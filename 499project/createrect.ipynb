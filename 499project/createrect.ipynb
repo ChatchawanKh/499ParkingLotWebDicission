{
 "cells": [
  {
   "cell_type": "code",
   "execution_count": null,
   "metadata": {},
   "outputs": [],
   "source": [
    "import cv2\n",
    "import pickle\n",
    "\n",
    "cap = cv2.imread('./CarPark.png')\n",
    "\n",
    "width, height = 54, 31\n",
    "\n",
    "try :\n",
    "    with open('CarParkPosition', 'rb') as f :\n",
    "        posList = pickle.load(f)\n",
    "except:\n",
    "    posList = []\n",
    "\n",
    "\n",
    "\n",
    "def mouseClick(events, x, y, flags, params):\n",
    "    if events == cv2.EVENT_LBUTTONDOWN:\n",
    "        posList.append((x, y))\n",
    "    if events == cv2.EVENT_RBUTTONDOWN:\n",
    "        for i, pos in enumerate (posList):\n",
    "            x1, y1 = pos\n",
    "            if x1 < x < x1 + width and y1 < y < y1+ height:\n",
    "                posList.pop(i)\n",
    "\n",
    "    with open('CarParkPosition', 'wb') as f :\n",
    "        pickle.dump(posList, f)\n",
    "\n",
    "\n",
    "while True:             \n",
    "    # cv2.rectangle(cap,(982,118),(1065,159),(255,0,255),2)\n",
    "    # img = cv2.imread(cap)\n",
    "    cap = cv2.imread('./CarPark.png')\n",
    "    for pos in posList:\n",
    "        cv2.rectangle(cap, pos, ( pos[0] + width, pos[1] + height), (255, 0, 255), 2)\n",
    "\n",
    "\n",
    "    print('My loaded polygon: \\n', pos)\n",
    "    cv2.imshow('frame', cap)\n",
    "    cv2.setMouseCallback('frame',mouseClick)\n",
    "    cv2.waitKey(1)"
   ]
  }
 ],
 "metadata": {
  "kernelspec": {
   "display_name": "Python 3.10.4 64-bit",
   "language": "python",
   "name": "python3"
  },
  "language_info": {
   "codemirror_mode": {
    "name": "ipython",
    "version": 3
   },
   "file_extension": ".py",
   "mimetype": "text/x-python",
   "name": "python",
   "nbconvert_exporter": "python",
   "pygments_lexer": "ipython3",
   "version": "3.10.4"
  },
  "orig_nbformat": 4,
  "vscode": {
   "interpreter": {
    "hash": "7fa6bc62d8d244c6ba1ae5daa6580e98f1d20f3f32caa17ce9885738d762ff05"
   }
  }
 },
 "nbformat": 4,
 "nbformat_minor": 2
}
